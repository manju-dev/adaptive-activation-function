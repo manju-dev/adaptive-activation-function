{
  "nbformat": 4,
  "nbformat_minor": 0,
  "metadata": {
    "colab": {
      "name": "ML-dataset-breast-cancer.ipynb.ipynb",
      "provenance": []
    },
    "kernelspec": {
      "name": "python3",
      "display_name": "Python 3"
    },
    "language_info": {
      "name": "python"
    }
  },
  "cells": [
    {
      "cell_type": "markdown",
      "metadata": {
        "id": "0WIt38pZlVzC"
      },
      "source": [
        "# Experiment - Breast Cancer Wisconsin\n",
        "\n",
        "**References**\n",
        "* https://archive.ics.uci.edu/ml/datasets/Breast+Cancer+Wisconsin+(Diagnostic)\n",
        "* https://pytorch.org/tutorials/beginner/basics/quickstart_tutorial.html"
      ]
    },
    {
      "cell_type": "markdown",
      "metadata": {
        "id": "iRRlFoaxoGHf"
      },
      "source": [
        "## Setup"
      ]
    },
    {
      "cell_type": "code",
      "metadata": {
        "colab": {
          "base_uri": "https://localhost:8080/"
        },
        "id": "qGp8VdG6lQnC",
        "outputId": "d6c2821a-ce95-40b0-bea0-973c02ea763e"
      },
      "source": [
        "# package versions\n",
        "!pip list | grep \"numpy\\|pandas\\|torch\\|sklearn\""
      ],
      "execution_count": 8,
      "outputs": [
        {
          "output_type": "stream",
          "text": [
            "numpy                         1.19.5        \n",
            "pandas                        1.1.5         \n",
            "pandas-datareader             0.9.0         \n",
            "pandas-gbq                    0.13.3        \n",
            "pandas-profiling              1.4.1         \n",
            "sklearn                       0.0           \n",
            "sklearn-pandas                1.8.0         \n",
            "torch                         1.8.1+cu101   \n",
            "torchsummary                  1.5.1         \n",
            "torchtext                     0.9.1         \n",
            "torchvision                   0.9.1+cu101   \n"
          ],
          "name": "stdout"
        }
      ]
    },
    {
      "cell_type": "code",
      "metadata": {
        "id": "pmtjdkLjle8u"
      },
      "source": [
        "import numpy as np\n",
        "import matplotlib.pyplot as plt\n",
        "\n",
        "plt.style.use('ggplot')\n",
        "SEED = 42"
      ],
      "execution_count": 9,
      "outputs": []
    },
    {
      "cell_type": "code",
      "metadata": {
        "colab": {
          "base_uri": "https://localhost:8080/"
        },
        "id": "rqwpctvulgSK",
        "outputId": "ddfcfcf8-4197-4910-bdb9-0ef995017013"
      },
      "source": [
        "import torch\n",
        "from torch import nn\n",
        "import torch.nn.functional as F\n",
        "from torch.utils.data import Dataset\n",
        "from torch.utils.data import DataLoader\n",
        "\n",
        "device = 'cuda' if torch.cuda.is_available() else 'cpu'\n",
        "print('Using {} device'.format(device))"
      ],
      "execution_count": 10,
      "outputs": [
        {
          "output_type": "stream",
          "text": [
            "Using cpu device\n"
          ],
          "name": "stdout"
        }
      ]
    },
    {
      "cell_type": "code",
      "metadata": {
        "id": "jtZeMpR9lj4r"
      },
      "source": [
        "from sklearn.datasets import load_breast_cancer\n",
        "from sklearn.model_selection import train_test_split\n",
        "from sklearn.preprocessing import StandardScaler\n",
        "import sklearn.metrics as metrics\n",
        "\n",
        "wbc = load_breast_cancer()\n",
        "\n",
        "scaler = StandardScaler()\n",
        "\n",
        "\n",
        "# Split the data set into training and testing\n",
        "X_train, X_test, y_train, y_test = train_test_split(\n",
        "    scaler.fit_transform(wbc['data']), wbc['target'], test_size=0.2, random_state=SEED)"
      ],
      "execution_count": 11,
      "outputs": []
    },
    {
      "cell_type": "markdown",
      "metadata": {
        "id": "1y5UkEqvoJvp"
      },
      "source": [
        "## Data"
      ]
    },
    {
      "cell_type": "code",
      "metadata": {
        "id": "_i9mZHWHlnbM"
      },
      "source": [
        "class BCWDataset(Dataset):\n",
        "    def __init__(self, data, labels):\n",
        "        self.data = torch.from_numpy(data).float()\n",
        "        self.labels = torch.from_numpy(labels).long()\n",
        "\n",
        "    def __len__(self):\n",
        "        return len(self.labels)\n",
        "\n",
        "    def __getitem__(self, idx):\n",
        "        item = self.data[idx]\n",
        "        label = self.labels[idx]\n",
        "        return item, label"
      ],
      "execution_count": 12,
      "outputs": []
    },
    {
      "cell_type": "code",
      "metadata": {
        "id": "6bRwEp-tnor9"
      },
      "source": [
        "training_data = BCWDataset(X_train, y_train)\n",
        "test_data = BCWDataset(X_test, y_test)"
      ],
      "execution_count": 13,
      "outputs": []
    },
    {
      "cell_type": "code",
      "metadata": {
        "colab": {
          "base_uri": "https://localhost:8080/"
        },
        "id": "y3mNetjbn67t",
        "outputId": "97d2a628-5ced-42ed-d082-548a02d40cdb"
      },
      "source": [
        "batch_size = 64\n",
        "\n",
        "# Create data loaders.\n",
        "train_dataloader = DataLoader(training_data, batch_size=batch_size)\n",
        "test_dataloader = DataLoader(test_data, batch_size=batch_size)\n",
        "\n",
        "X, y = next(iter(train_dataloader))\n",
        "X.shape, y.shape"
      ],
      "execution_count": 14,
      "outputs": [
        {
          "output_type": "execute_result",
          "data": {
            "text/plain": [
              "(torch.Size([64, 30]), torch.Size([64]))"
            ]
          },
          "metadata": {
            "tags": []
          },
          "execution_count": 14
        }
      ]
    },
    {
      "cell_type": "markdown",
      "metadata": {
        "id": "BcYR1Z8yKUGN"
      },
      "source": [
        "## Model"
      ]
    },
    {
      "cell_type": "code",
      "metadata": {
        "id": "VnSMOru6BL6o"
      },
      "source": [
        "class NN_Model(nn.Module):\n",
        "    def __init__(self, input_dim):\n",
        "        super(NN_Model, self).__init__()\n",
        "        self.layer1 = nn.Linear(input_dim, 30)\n",
        "        self.layer2 = nn.Linear(30, 15)\n",
        "        self.layer3 = nn.Linear(15, 1)\n",
        "\n",
        "    def forward(self, x):\n",
        "        x = F.relu(self.layer1(x))\n",
        "        x = F.relu(self.layer2(x))\n",
        "        x = torch.sigmoid(self.layer3(x))\n",
        "        return x"
      ],
      "execution_count": 15,
      "outputs": []
    },
    {
      "cell_type": "code",
      "metadata": {
        "id": "_B5g_8XMJEiG"
      },
      "source": [
        "class Ada_Act_Params(nn.Module):\n",
        "    def __init__(self, k0, k1):\n",
        "        super(Ada_Act_Params, self).__init__()\n",
        "        self.K = torch.nn.Parameter(torch.tensor([k0, k1]))\n",
        "\n",
        "    def forward(self, x):\n",
        "        return self.K[0] + (self.K[1] * x)\n",
        "    \n",
        "class Ada_Act_Rand(nn.Module):\n",
        "    def __init__(self):\n",
        "        super(Ada_Act_Rand, self).__init__()\n",
        "        self.values = torch.rand(2)\n",
        "        self.K = torch.nn.Parameter(torch.tensor(self.values.tolist()))\n",
        "\n",
        "    def forward(self, x):\n",
        "        return self.K[0] + (self.K[1] * x)"
      ],
      "execution_count": 16,
      "outputs": []
    },
    {
      "cell_type": "code",
      "metadata": {
        "id": "tfMEP6CRJIyw"
      },
      "source": [
        "class NN_Model_Monk(nn.Module):\n",
        "    def __init__(self, input_dim, k0=None, k1=None):\n",
        "        super(NN_Model_Monk, self).__init__()\n",
        "        self.layer1 = nn.Linear(input_dim, 30)\n",
        "        self.layer2 = nn.Linear(30, 15)\n",
        "        self.layer3 = nn.Linear(15, 1)\n",
        "\n",
        "        if k0 and k1:\n",
        "            self.ada_act = Ada_Act_Params(k0, k1)\n",
        "        else:\n",
        "            self.ada_act = Ada_Act_Rand()\n",
        "\n",
        "    def forward(self, x):\n",
        "        x = self.ada_act(self.layer1(x))\n",
        "        x = self.ada_act(self.layer2(x))\n",
        "        x = torch.sigmoid(self.layer3(x))\n",
        "        return x"
      ],
      "execution_count": 17,
      "outputs": []
    },
    {
      "cell_type": "code",
      "metadata": {
        "id": "WZAFO31kpk90"
      },
      "source": [
        "def train(dataloader, model, loss_fn, optimizer):\n",
        "    train_loss = []\n",
        "    pred_all = []\n",
        "    for batch, (X, y) in enumerate(dataloader):\n",
        "        X, y = X.to(device), y.to(device)\n",
        "\n",
        "        # Compute prediction error\n",
        "        pred = model(X)\n",
        "        # loss = loss_fn(pred, y.view(-1,1).float())\n",
        "        loss = loss_fn(pred.flatten(), y.float())\n",
        "        \n",
        "        train_loss.append(loss.item())\n",
        "        pred_all += (pred.flatten() > 0.5).long().tolist()\n",
        "\n",
        "        # Backpropagation\n",
        "        optimizer.zero_grad()\n",
        "        loss.backward()\n",
        "        optimizer.step()\n",
        "    \n",
        "    train_acc = metrics.accuracy_score(dataloader.dataset.labels, pred_all)\n",
        "    return (sum(train_loss)/len(train_loss), train_acc)"
      ],
      "execution_count": 18,
      "outputs": []
    },
    {
      "cell_type": "code",
      "metadata": {
        "id": "8rZK1yPtpsr1"
      },
      "source": [
        "def test(dataloader, model):\n",
        "    model.eval()\n",
        "    test_loss = 0\n",
        "    pred_all = []\n",
        "    with torch.no_grad():\n",
        "        for X, y in dataloader:\n",
        "            X, y = X.to(device), y.to(device)\n",
        "            \n",
        "            pred = model(X)\n",
        "            \n",
        "            test_loss += loss_fn(pred, y.view(-1, 1).float()).item()\n",
        "            # test_acc += (pred.argmax(1) == y).type(torch.float).sum().item()\n",
        "\n",
        "            pred_all += (pred.flatten() > 0.5).long().tolist()\n",
        "    \n",
        "    test_loss /= len(dataloader)\n",
        "    test_acc = metrics.accuracy_score(dataloader.dataset.labels, pred_all)\n",
        "    test_f1 = metrics.f1_score(dataloader.dataset.labels, pred_all)\n",
        "    \n",
        "    return (test_loss, test_acc, test_f1)"
      ],
      "execution_count": 19,
      "outputs": []
    },
    {
      "cell_type": "markdown",
      "metadata": {
        "id": "divhUGeAJs6_"
      },
      "source": [
        "## Experiment 1 - ReLU"
      ]
    },
    {
      "cell_type": "code",
      "metadata": {
        "colab": {
          "base_uri": "https://localhost:8080/"
        },
        "id": "7OFeZPW0pEih",
        "outputId": "075cc598-b222-48ac-99a5-ac56aa66b325"
      },
      "source": [
        "model = NN_Model(training_data.data.shape[1]).to(device)\n",
        "loss_fn = nn.BCELoss()\n",
        "optimizer = torch.optim.Adam(model.parameters(), lr=0.001, weight_decay=0.0001)\n",
        "\n",
        "EPOCHS = 30\n",
        "\n",
        "train_info = []\n",
        "test_info = []\n",
        "for epoch in range(EPOCHS):\n",
        "    train_epoch = train(train_dataloader, model, loss_fn, optimizer)\n",
        "    test_epoch = test(test_dataloader, model)\n",
        "    \n",
        "    train_info.append(train_epoch)\n",
        "    test_info.append(test_epoch)\n",
        "    if epoch % 10 == 9:\n",
        "        print(\"EPOCH: {0}, Train loss: {1}, Train acc: {2}, Test loss: {3}, Test acc: {4}, Test F1: {5}\".format(\n",
        "            epoch, train_epoch[0], train_epoch[1], test_epoch[0], test_epoch[1], test_epoch[2]))\n",
        "\n",
        "print(\"Done!\")"
      ],
      "execution_count": 20,
      "outputs": [
        {
          "output_type": "stream",
          "text": [
            "EPOCH: 9, Train loss: 0.21960521303117275, Train acc: 0.9384615384615385, Test loss: 0.18451469391584396, Test acc: 0.9649122807017544, Test F1: 0.971830985915493\n",
            "EPOCH: 19, Train loss: 0.07711724168621004, Train acc: 0.9824175824175824, Test loss: 0.06527746468782425, Test acc: 0.9824561403508771, Test F1: 0.9859154929577465\n",
            "EPOCH: 29, Train loss: 0.05317929235752672, Train acc: 0.9846153846153847, Test loss: 0.05341709405183792, Test acc: 0.9912280701754386, Test F1: 0.993006993006993\n",
            "Done!\n"
          ],
          "name": "stdout"
        }
      ]
    },
    {
      "cell_type": "code",
      "metadata": {
        "colab": {
          "base_uri": "https://localhost:8080/",
          "height": 396
        },
        "id": "VRAo0G1cs1Aj",
        "outputId": "82e8bf8a-390b-4c14-cad3-9bf5b7168d50"
      },
      "source": [
        "fig, (ax1, ax2) = plt.subplots(2, figsize=(12, 6), sharex=True)\n",
        "\n",
        "ax1.plot(list(zip(*train_info))[0])\n",
        "ax1.set_ylabel(\"Train loss\")\n",
        "ax2.plot(list(zip(*test_info))[1])\n",
        "ax2.set_ylabel(\"test acc\")"
      ],
      "execution_count": 21,
      "outputs": [
        {
          "output_type": "execute_result",
          "data": {
            "text/plain": [
              "Text(0, 0.5, 'test acc')"
            ]
          },
          "metadata": {
            "tags": []
          },
          "execution_count": 21
        },
        {
          "output_type": "display_data",
          "data": {
            "image/png": "[encoded data removed]",
            "text/plain": [
              "<Figure size 864x432 with 2 Axes>"
            ]
          },
          "metadata": {
            "tags": []
          }
        }
      ]
    },
    {
      "cell_type": "markdown",
      "metadata": {
        "id": "SbxBJjZWJ01e"
      },
      "source": [
        "## Experiment 2 - Ada_Act_Params"
      ]
    },
    {
      "cell_type": "code",
      "metadata": {
        "colab": {
          "base_uri": "https://localhost:8080/"
        },
        "id": "t60GiylgJSdY",
        "outputId": "6164ea30-1b50-4d0c-9f13-c1c8fd2373af"
      },
      "source": [
        "# set ada_act params\n",
        "k0 = 0.5\n",
        "k1 = 0.5\n",
        "\n",
        "model_monk_params = NN_Model_Monk(training_data.data.shape[1], k0, k1).to(device)\n",
        "loss_fn = nn.BCELoss()\n",
        "optimizer = torch.optim.Adam(model_monk_params.parameters(), lr=0.001, weight_decay=0.0001)\n",
        "\n",
        "EPOCHS = 30\n",
        "\n",
        "train_info = []\n",
        "test_info = []\n",
        "for epoch in range(EPOCHS):\n",
        "    train_epoch = train(train_dataloader, model_monk_params, loss_fn, optimizer)\n",
        "    test_epoch = test(test_dataloader, model_monk_params)\n",
        "    \n",
        "    train_info.append(train_epoch)\n",
        "    test_info.append(test_epoch)\n",
        "    if epoch % 10 == 9:\n",
        "        print(\"EPOCH: {0}, Train loss: {1}, Train acc: {2}, Test loss: {3}, Test acc: {4}, Test F1: {5}\".format(\n",
        "            epoch, train_epoch[0], train_epoch[1], test_epoch[0], test_epoch[1], test_epoch[2]))\n",
        "\n",
        "print(\"Done!\")"
      ],
      "execution_count": 22,
      "outputs": [
        {
          "output_type": "stream",
          "text": [
            "EPOCH: 9, Train loss: 0.17210022918879986, Train acc: 0.945054945054945, Test loss: 0.1334598809480667, Test acc: 0.9649122807017544, Test F1: 0.9726027397260273\n",
            "EPOCH: 19, Train loss: 0.0750302649103105, Train acc: 0.9824175824175824, Test loss: 0.05947049707174301, Test acc: 0.9912280701754386, Test F1: 0.993006993006993\n",
            "EPOCH: 29, Train loss: 0.060339170042425394, Train acc: 0.9846153846153847, Test loss: 0.05220811069011688, Test acc: 0.9912280701754386, Test F1: 0.993006993006993\n",
            "Done!\n"
          ],
          "name": "stdout"
        }
      ]
    },
    {
      "cell_type": "code",
      "metadata": {
        "colab": {
          "base_uri": "https://localhost:8080/"
        },
        "id": "KBh08ei9LD0b",
        "outputId": "c2ed680d-a259-4943-b832-97cbbb409355"
      },
      "source": [
        "print(model_monk_params.ada_act.K)"
      ],
      "execution_count": 23,
      "outputs": [
        {
          "output_type": "stream",
          "text": [
            "Parameter containing:\n",
            "tensor([0.5052, 0.6525], requires_grad=True)\n"
          ],
          "name": "stdout"
        }
      ]
    },
    {
      "cell_type": "code",
      "metadata": {
        "colab": {
          "base_uri": "https://localhost:8080/",
          "height": 393
        },
        "id": "FlS06j74KM3D",
        "outputId": "5439d2dc-2e82-45e6-c6d0-273c4ef3a1e0"
      },
      "source": [
        "fig, (ax1, ax2) = plt.subplots(2, figsize=(12, 6), sharex=True)\n",
        "\n",
        "ax1.plot(list(zip(*train_info))[0])\n",
        "ax1.set_ylabel(\"Train loss\")\n",
        "ax2.plot(list(zip(*test_info))[1])\n",
        "ax2.set_ylabel(\"test acc\")"
      ],
      "execution_count": 24,
      "outputs": [
        {
          "output_type": "execute_result",
          "data": {
            "text/plain": [
              "Text(0, 0.5, 'test acc')"
            ]
          },
          "metadata": {
            "tags": []
          },
          "execution_count": 24
        },
        {
          "output_type": "display_data",
          "data": {
            "image/png": "[encoded data removed]",
            "text/plain": [
              "<Figure size 864x432 with 2 Axes>"
            ]
          },
          "metadata": {
            "tags": []
          }
        }
      ]
    },
    {
      "cell_type": "markdown",
      "metadata": {
        "id": "6ZoPSxKtKkN_"
      },
      "source": [
        "## Experiment 3 - Ada_Act_Rand"
      ]
    },
    {
      "cell_type": "code",
      "metadata": {
        "colab": {
          "base_uri": "https://localhost:8080/"
        },
        "id": "0Ke7DqTmKot4",
        "outputId": "88afa985-a685-46c1-d777-4dc52d1cbdc4"
      },
      "source": [
        "model_monk_rand = NN_Model_Monk(training_data.data.shape[1]).to(device)\n",
        "loss_fn = nn.BCELoss()\n",
        "optimizer = torch.optim.Adam(model_monk_rand.parameters(), lr=0.001, weight_decay=0.0001)\n",
        "\n",
        "EPOCHS = 30\n",
        "\n",
        "train_info = []\n",
        "test_info = []\n",
        "for epoch in range(EPOCHS):\n",
        "    train_epoch = train(train_dataloader, model_monk_rand, loss_fn, optimizer)\n",
        "    test_epoch = test(test_dataloader, model_monk_rand)\n",
        "    \n",
        "    train_info.append(train_epoch)\n",
        "    test_info.append(test_epoch)\n",
        "    if epoch % 10 == 9:\n",
        "        print(\"EPOCH: {0}, Train loss: {1}, Train acc: {2}, Test loss: {3}, Test acc: {4}, Test F1: {5}\".format(\n",
        "            epoch, train_epoch[0], train_epoch[1], test_epoch[0], test_epoch[1], test_epoch[2]))\n",
        "\n",
        "print(\"Done!\")"
      ],
      "execution_count": 25,
      "outputs": [
        {
          "output_type": "stream",
          "text": [
            "EPOCH: 9, Train loss: 0.2437805663794279, Train acc: 0.9252747252747253, Test loss: 0.1983887329697609, Test acc: 0.956140350877193, Test F1: 0.9659863945578232\n",
            "EPOCH: 19, Train loss: 0.08689637389034033, Train acc: 0.9736263736263736, Test loss: 0.06999435275793076, Test acc: 0.9912280701754386, Test F1: 0.993006993006993\n",
            "EPOCH: 29, Train loss: 0.0641029654070735, Train acc: 0.9846153846153847, Test loss: 0.05634952522814274, Test acc: 0.9824561403508771, Test F1: 0.9859154929577465\n",
            "Done!\n"
          ],
          "name": "stdout"
        }
      ]
    },
    {
      "cell_type": "code",
      "metadata": {
        "id": "FsDre1LtKyNT",
        "colab": {
          "base_uri": "https://localhost:8080/"
        },
        "outputId": "884c5fcf-7434-4587-8c6a-d7760039d66c"
      },
      "source": [
        "print(model_monk_rand.ada_act.values)"
      ],
      "execution_count": 26,
      "outputs": [
        {
          "output_type": "stream",
          "text": [
            "tensor([0.5427, 0.4116])\n"
          ],
          "name": "stdout"
        }
      ]
    },
    {
      "cell_type": "code",
      "metadata": {
        "colab": {
          "base_uri": "https://localhost:8080/"
        },
        "id": "JJ8myRurLI6D",
        "outputId": "f8d63975-27d7-4f52-ea64-6d80e6333c82"
      },
      "source": [
        "print(model_monk_rand.ada_act.K)"
      ],
      "execution_count": 27,
      "outputs": [
        {
          "output_type": "stream",
          "text": [
            "Parameter containing:\n",
            "tensor([0.5442, 0.5920], requires_grad=True)\n"
          ],
          "name": "stdout"
        }
      ]
    },
    {
      "cell_type": "code",
      "metadata": {
        "colab": {
          "base_uri": "https://localhost:8080/",
          "height": 393
        },
        "id": "C4m7x1NnKxJD",
        "outputId": "b15ce391-24e4-4e5d-93ac-b1a5824be652"
      },
      "source": [
        "fig, (ax1, ax2) = plt.subplots(2, figsize=(12, 6), sharex=True)\n",
        "\n",
        "ax1.plot(list(zip(*train_info))[0])\n",
        "ax1.set_ylabel(\"Train loss\")\n",
        "ax2.plot(list(zip(*test_info))[1])\n",
        "ax2.set_ylabel(\"test acc\")"
      ],
      "execution_count": 28,
      "outputs": [
        {
          "output_type": "execute_result",
          "data": {
            "text/plain": [
              "Text(0, 0.5, 'test acc')"
            ]
          },
          "metadata": {
            "tags": []
          },
          "execution_count": 28
        },
        {
          "output_type": "display_data",
          "data": {
            "image/png": "[encoded data removed]",
            "text/plain": [
              "<Figure size 864x432 with 2 Axes>"
            ]
          },
          "metadata": {
            "tags": []
          }
        }
      ]
    }
  ]
}