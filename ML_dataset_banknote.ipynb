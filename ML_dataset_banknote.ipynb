{
  "nbformat": 4,
  "nbformat_minor": 0,
  "metadata": {
    "colab": {
      "name": "ML-dataset-banknote.ipynb",
      "provenance": []
    },
    "kernelspec": {
      "name": "python3",
      "display_name": "Python 3"
    },
    "language_info": {
      "name": "python"
    }
  },
  "cells": [
    {
      "cell_type": "markdown",
      "metadata": {
        "id": "ULOkOkHaNF2b"
      },
      "source": [
        "# Experiment - UCI Banknote Authentication Dataset\n",
        "\n",
        "**References**\n",
        "* https://archive.ics.uci.edu/ml/datasets/banknote+authentication"
      ]
    },
    {
      "cell_type": "markdown",
      "metadata": {
        "id": "99e8nMPONGil"
      },
      "source": [
        "##Setup"
      ]
    },
    {
      "cell_type": "code",
      "metadata": {
        "colab": {
          "base_uri": "https://localhost:8080/"
        },
        "id": "hutmXrdBNIEI",
        "outputId": "a470b3cb-a8e3-49af-e99a-acdb9632e4c7"
      },
      "source": [
        "# package versions\n",
        "!pip list | grep \"numpy\\|pandas\\|torch\\|sklearn\""
      ],
      "execution_count": 18,
      "outputs": [
        {
          "output_type": "stream",
          "text": [
            "numpy                         1.19.5        \n",
            "pandas                        1.1.5         \n",
            "pandas-datareader             0.9.0         \n",
            "pandas-gbq                    0.13.3        \n",
            "pandas-profiling              1.4.1         \n",
            "sklearn                       0.0           \n",
            "sklearn-pandas                1.8.0         \n",
            "torch                         1.8.1+cu101   \n",
            "torchsummary                  1.5.1         \n",
            "torchtext                     0.9.1         \n",
            "torchvision                   0.9.1+cu101   \n"
          ],
          "name": "stdout"
        }
      ]
    },
    {
      "cell_type": "code",
      "metadata": {
        "id": "B5Qhvk579Z5n"
      },
      "source": [
        "import numpy as np\n",
        "import pandas as pd\n",
        "import matplotlib.pyplot as plt\n",
        "\n",
        "plt.style.use('ggplot')\n",
        "SEED = 42"
      ],
      "execution_count": 19,
      "outputs": []
    },
    {
      "cell_type": "code",
      "metadata": {
        "colab": {
          "base_uri": "https://localhost:8080/"
        },
        "id": "M07IM5GwNlSS",
        "outputId": "ed069e16-ee4c-4a7d-c564-a990aade3363"
      },
      "source": [
        "import torch\n",
        "from torch import nn\n",
        "import torch.nn.functional as F\n",
        "from torch.utils.data import Dataset\n",
        "from torch.utils.data import DataLoader\n",
        "\n",
        "device = 'cuda' if torch.cuda.is_available() else 'cpu'\n",
        "print('Using {} device'.format(device))"
      ],
      "execution_count": 20,
      "outputs": [
        {
          "output_type": "stream",
          "text": [
            "Using cpu device\n"
          ],
          "name": "stdout"
        }
      ]
    },
    {
      "cell_type": "code",
      "metadata": {
        "id": "zDZq2VhGNpre"
      },
      "source": [
        "from sklearn.model_selection import train_test_split\n",
        "from sklearn.preprocessing import StandardScaler\n",
        "import sklearn.metrics as metrics"
      ],
      "execution_count": 21,
      "outputs": []
    },
    {
      "cell_type": "code",
      "metadata": {
        "colab": {
          "base_uri": "https://localhost:8080/",
          "height": 206
        },
        "id": "q-dCxZFyP3jn",
        "outputId": "2d95770e-9e07-45f9-9da5-17dc1e978072"
      },
      "source": [
        "banknote = pd.read_csv('https://archive.ics.uci.edu/ml/machine-learning-databases/00267/data_banknote_authentication.txt',\n",
        "                       names=['variance', 'skewness', 'curtosis', 'entropy', 'labels'])\n",
        "\n",
        "banknote.head()"
      ],
      "execution_count": 22,
      "outputs": [
        {
          "output_type": "execute_result",
          "data": {
            "text/html": [
              "<div>\n",
              "<style scoped>\n",
              "    .dataframe tbody tr th:only-of-type {\n",
              "        vertical-align: middle;\n",
              "    }\n",
              "\n",
              "    .dataframe tbody tr th {\n",
              "        vertical-align: top;\n",
              "    }\n",
              "\n",
              "    .dataframe thead th {\n",
              "        text-align: right;\n",
              "    }\n",
              "</style>\n",
              "<table border=\"1\" class=\"dataframe\">\n",
              "  <thead>\n",
              "    <tr style=\"text-align: right;\">\n",
              "      <th></th>\n",
              "      <th>variance</th>\n",
              "      <th>skewness</th>\n",
              "      <th>curtosis</th>\n",
              "      <th>entropy</th>\n",
              "      <th>labels</th>\n",
              "    </tr>\n",
              "  </thead>\n",
              "  <tbody>\n",
              "    <tr>\n",
              "      <th>0</th>\n",
              "      <td>3.62160</td>\n",
              "      <td>8.6661</td>\n",
              "      <td>-2.8073</td>\n",
              "      <td>-0.44699</td>\n",
              "      <td>0</td>\n",
              "    </tr>\n",
              "    <tr>\n",
              "      <th>1</th>\n",
              "      <td>4.54590</td>\n",
              "      <td>8.1674</td>\n",
              "      <td>-2.4586</td>\n",
              "      <td>-1.46210</td>\n",
              "      <td>0</td>\n",
              "    </tr>\n",
              "    <tr>\n",
              "      <th>2</th>\n",
              "      <td>3.86600</td>\n",
              "      <td>-2.6383</td>\n",
              "      <td>1.9242</td>\n",
              "      <td>0.10645</td>\n",
              "      <td>0</td>\n",
              "    </tr>\n",
              "    <tr>\n",
              "      <th>3</th>\n",
              "      <td>3.45660</td>\n",
              "      <td>9.5228</td>\n",
              "      <td>-4.0112</td>\n",
              "      <td>-3.59440</td>\n",
              "      <td>0</td>\n",
              "    </tr>\n",
              "    <tr>\n",
              "      <th>4</th>\n",
              "      <td>0.32924</td>\n",
              "      <td>-4.4552</td>\n",
              "      <td>4.5718</td>\n",
              "      <td>-0.98880</td>\n",
              "      <td>0</td>\n",
              "    </tr>\n",
              "  </tbody>\n",
              "</table>\n",
              "</div>"
            ],
            "text/plain": [
              "   variance  skewness  curtosis  entropy  labels\n",
              "0   3.62160    8.6661   -2.8073 -0.44699       0\n",
              "1   4.54590    8.1674   -2.4586 -1.46210       0\n",
              "2   3.86600   -2.6383    1.9242  0.10645       0\n",
              "3   3.45660    9.5228   -4.0112 -3.59440       0\n",
              "4   0.32924   -4.4552    4.5718 -0.98880       0"
            ]
          },
          "metadata": {
            "tags": []
          },
          "execution_count": 22
        }
      ]
    },
    {
      "cell_type": "markdown",
      "metadata": {
        "id": "oBYDDXVtQEty"
      },
      "source": [
        "## Data"
      ]
    },
    {
      "cell_type": "code",
      "metadata": {
        "id": "MjPmXvPmNvqr"
      },
      "source": [
        "data = banknote.iloc[:, 0:4]\n",
        "targets = banknote.labels\n",
        "\n",
        "scaler = StandardScaler()\n",
        "\n",
        "# Split the data set into training and testing\n",
        "X_train, X_test, y_train, y_test = train_test_split(\n",
        "    scaler.fit_transform(data), targets.to_numpy(), test_size=0.2, random_state=SEED)"
      ],
      "execution_count": 23,
      "outputs": []
    },
    {
      "cell_type": "code",
      "metadata": {
        "id": "JS36nTM4QEdq"
      },
      "source": [
        "class BanknoteDataset(Dataset):\n",
        "    def __init__(self, data, labels):\n",
        "        self.data = torch.from_numpy(data).float()\n",
        "        self.labels = torch.from_numpy(labels).long()\n",
        "\n",
        "    def __len__(self):\n",
        "        return len(self.labels)\n",
        "\n",
        "    def __getitem__(self, idx):\n",
        "        item = self.data[idx]\n",
        "        label = self.labels[idx]\n",
        "        return item, label"
      ],
      "execution_count": 24,
      "outputs": []
    },
    {
      "cell_type": "code",
      "metadata": {
        "id": "vRrRIHM6QOAo"
      },
      "source": [
        "training_data = BanknoteDataset(X_train, y_train)\n",
        "test_data = BanknoteDataset(X_test, y_test)"
      ],
      "execution_count": 25,
      "outputs": []
    },
    {
      "cell_type": "code",
      "metadata": {
        "colab": {
          "base_uri": "https://localhost:8080/"
        },
        "id": "20R3YdEBQZgA",
        "outputId": "475fa27e-eab0-4b1b-e719-da8c9e835087"
      },
      "source": [
        "batch_size = 64\n",
        "\n",
        "# Create data loaders.\n",
        "train_dataloader = DataLoader(training_data, batch_size=batch_size)\n",
        "test_dataloader = DataLoader(test_data, batch_size=batch_size)\n",
        "\n",
        "X, y = next(iter(train_dataloader))\n",
        "X.shape, y.shape"
      ],
      "execution_count": 26,
      "outputs": [
        {
          "output_type": "execute_result",
          "data": {
            "text/plain": [
              "(torch.Size([64, 4]), torch.Size([64]))"
            ]
          },
          "metadata": {
            "tags": []
          },
          "execution_count": 26
        }
      ]
    },
    {
      "cell_type": "markdown",
      "metadata": {
        "id": "bm2_l3JFQrIl"
      },
      "source": [
        "## Model"
      ]
    },
    {
      "cell_type": "code",
      "metadata": {
        "id": "axR6DTBPQm2c"
      },
      "source": [
        "class NN_Model(nn.Module):\n",
        "    def __init__(self, input_dim):\n",
        "        super(NN_Model, self).__init__()\n",
        "        self.layer1 = nn.Linear(input_dim, 10)\n",
        "        self.layer2 = nn.Linear(10, 5)\n",
        "        self.layer3 = nn.Linear(5, 1)\n",
        "\n",
        "    def forward(self, x):\n",
        "        x = F.relu(self.layer1(x))\n",
        "        x = F.relu(self.layer2(x))\n",
        "        x = torch.sigmoid(self.layer3(x))\n",
        "        return x"
      ],
      "execution_count": 27,
      "outputs": []
    },
    {
      "cell_type": "code",
      "metadata": {
        "id": "F2brxLKZQsN8"
      },
      "source": [
        "class Ada_Act_Params(nn.Module):\n",
        "    def __init__(self, k0, k1):\n",
        "        super(Ada_Act_Params, self).__init__()\n",
        "        self.K = torch.nn.Parameter(torch.tensor([k0, k1]))\n",
        "\n",
        "    def forward(self, x):\n",
        "        return self.K[0] + (self.K[1] * x)\n",
        "    \n",
        "class Ada_Act_Rand(nn.Module):\n",
        "    def __init__(self):\n",
        "        super(Ada_Act_Rand, self).__init__()\n",
        "        self.values = torch.rand(2)\n",
        "        self.K = torch.nn.Parameter(torch.tensor(self.values.tolist()))\n",
        "\n",
        "    def forward(self, x):\n",
        "        return self.K[0] + (self.K[1] * x)"
      ],
      "execution_count": 28,
      "outputs": []
    },
    {
      "cell_type": "code",
      "metadata": {
        "id": "hap7JYJ1Qt-U"
      },
      "source": [
        "class NN_Model_Monk(nn.Module):\n",
        "    def __init__(self, input_dim, k0=None, k1=None):\n",
        "        super(NN_Model_Monk, self).__init__()\n",
        "        self.layer1 = nn.Linear(input_dim, 10)\n",
        "        self.layer2 = nn.Linear(10, 5)\n",
        "        self.layer3 = nn.Linear(5, 1)\n",
        "\n",
        "        if k0 and k1:\n",
        "            self.ada_act = Ada_Act_Params(k0, k1)\n",
        "        else:\n",
        "            self.ada_act = Ada_Act_Rand()\n",
        "\n",
        "    def forward(self, x):\n",
        "        x = self.ada_act(self.layer1(x))\n",
        "        x = self.ada_act(self.layer2(x))\n",
        "        x = torch.sigmoid(self.layer3(x))\n",
        "        return x"
      ],
      "execution_count": 29,
      "outputs": []
    },
    {
      "cell_type": "code",
      "metadata": {
        "id": "ogK_mXlPQvq6"
      },
      "source": [
        "def train(dataloader, model, loss_fn, optimizer):\n",
        "    train_loss = []\n",
        "    pred_all = []\n",
        "    for batch, (X, y) in enumerate(dataloader):\n",
        "        X, y = X.to(device), y.to(device)\n",
        "\n",
        "        # Compute prediction error\n",
        "        pred = model(X)\n",
        "        # loss = loss_fn(pred, y.view(-1,1).float())\n",
        "        loss = loss_fn(pred.flatten(), y.float())\n",
        "        \n",
        "        train_loss.append(loss.item())\n",
        "        pred_all += (pred.flatten() > 0.5).long().tolist()\n",
        "\n",
        "        # Backpropagation\n",
        "        optimizer.zero_grad()\n",
        "        loss.backward()\n",
        "        optimizer.step()\n",
        "    \n",
        "    train_acc = metrics.accuracy_score(dataloader.dataset.labels, pred_all)\n",
        "    return (sum(train_loss)/len(train_loss), train_acc)"
      ],
      "execution_count": 30,
      "outputs": []
    },
    {
      "cell_type": "code",
      "metadata": {
        "id": "wKe7WC4IQxlT"
      },
      "source": [
        "def test(dataloader, model):\n",
        "    model.eval()\n",
        "    test_loss = 0\n",
        "    pred_all = []\n",
        "    with torch.no_grad():\n",
        "        for X, y in dataloader:\n",
        "            X, y = X.to(device), y.to(device)\n",
        "            \n",
        "            pred = model(X)\n",
        "            \n",
        "            test_loss += loss_fn(pred, y.view(-1, 1).float()).item()\n",
        "            # test_acc += (pred.argmax(1) == y).type(torch.float).sum().item()\n",
        "\n",
        "            pred_all += (pred.flatten() > 0.5).long().tolist()\n",
        "    \n",
        "    test_loss /= len(dataloader)\n",
        "    test_acc = metrics.accuracy_score(dataloader.dataset.labels, pred_all)\n",
        "    test_f1 = metrics.f1_score(dataloader.dataset.labels, pred_all)\n",
        "    \n",
        "    return (test_loss, test_acc, test_f1)"
      ],
      "execution_count": 31,
      "outputs": []
    },
    {
      "cell_type": "markdown",
      "metadata": {
        "id": "dbmNGTl0Q3PT"
      },
      "source": [
        "## Experiment 1 - ReLU"
      ]
    },
    {
      "cell_type": "code",
      "metadata": {
        "colab": {
          "base_uri": "https://localhost:8080/"
        },
        "id": "yJFU3tjcQ0EG",
        "outputId": "564a4b03-8282-4dca-8226-61f652e34fa4"
      },
      "source": [
        "model = NN_Model(training_data.data.shape[1]).to(device)\n",
        "loss_fn = nn.BCELoss()\n",
        "optimizer = torch.optim.Adam(model.parameters(), lr=0.001, weight_decay=0.0001)\n",
        "\n",
        "EPOCHS = 30\n",
        "\n",
        "train_info = []\n",
        "test_info = []\n",
        "for epoch in range(EPOCHS):\n",
        "    train_epoch = train(train_dataloader, model, loss_fn, optimizer)\n",
        "    test_epoch = test(test_dataloader, model)\n",
        "    \n",
        "    train_info.append(train_epoch)\n",
        "    test_info.append(test_epoch)\n",
        "    if epoch % 10 == 9:\n",
        "        print(\"EPOCH: {0}, Train loss: {1}, Train acc: {2}, Test loss: {3}, Test acc: {4}, Test F1: {5}\".format(\n",
        "            epoch, train_epoch[0], train_epoch[1], test_epoch[0], test_epoch[1], test_epoch[2]))\n",
        "\n",
        "print(\"Done!\")"
      ],
      "execution_count": 32,
      "outputs": [
        {
          "output_type": "stream",
          "text": [
            "EPOCH: 9, Train loss: 0.5934862130218082, Train acc: 0.5597082953509571, Test loss: 0.5869539499282836, Test acc: 0.5381818181818182, Test F1: 0.0\n",
            "EPOCH: 19, Train loss: 0.3261442813608382, Train acc: 0.9462169553327257, Test loss: 0.3330319881439209, Test acc: 0.9272727272727272, Test F1: 0.9145299145299145\n",
            "EPOCH: 29, Train loss: 0.10721694181362788, Train acc: 0.9735642661804923, Test loss: 0.11988641023635864, Test acc: 0.9781818181818182, Test F1: 0.9765625\n",
            "Done!\n"
          ],
          "name": "stdout"
        }
      ]
    },
    {
      "cell_type": "code",
      "metadata": {
        "colab": {
          "base_uri": "https://localhost:8080/",
          "height": 393
        },
        "id": "wr5mKxB6Q666",
        "outputId": "ac321e38-191d-429e-d871-3ab8e99450da"
      },
      "source": [
        "fig, (ax1, ax2) = plt.subplots(2, figsize=(12, 6), sharex=True)\n",
        "\n",
        "ax1.plot(list(zip(*train_info))[0])\n",
        "ax1.set_ylabel(\"Train loss\")\n",
        "ax2.plot(list(zip(*test_info))[1])\n",
        "ax2.set_ylabel(\"test acc\")"
      ],
      "execution_count": 33,
      "outputs": [
        {
          "output_type": "execute_result",
          "data": {
            "text/plain": [
              "Text(0, 0.5, 'test acc')"
            ]
          },
          "metadata": {
            "tags": []
          },
          "execution_count": 33
        },
        {
          "output_type": "display_data",
          "data": {
            "image/png": "[encoded data removed]",
            "text/plain": [
              "<Figure size 864x432 with 2 Axes>"
            ]
          },
          "metadata": {
            "tags": []
          }
        }
      ]
    },
    {
      "cell_type": "markdown",
      "metadata": {
        "id": "TuWulOt5RuKg"
      },
      "source": [
        "## Experiment 2 - Ada_Act_Params"
      ]
    },
    {
      "cell_type": "code",
      "metadata": {
        "colab": {
          "base_uri": "https://localhost:8080/"
        },
        "id": "J0Bwmg4jQ9mX",
        "outputId": "94e1286f-e07f-4d8e-f6dd-85510f4f46c0"
      },
      "source": [
        "# set ada_act params\n",
        "k0 = 0.5\n",
        "k1 = 0.5\n",
        "\n",
        "model_monk_params = NN_Model_Monk(training_data.data.shape[1], k0, k1).to(device)\n",
        "loss_fn = nn.BCELoss()\n",
        "optimizer = torch.optim.Adam(model_monk_params.parameters(), lr=0.001, weight_decay=0.0001)\n",
        "\n",
        "EPOCHS = 30\n",
        "\n",
        "train_info = []\n",
        "test_info = []\n",
        "for epoch in range(EPOCHS):\n",
        "    train_epoch = train(train_dataloader, model_monk_params, loss_fn, optimizer)\n",
        "    test_epoch = test(test_dataloader, model_monk_params)\n",
        "    \n",
        "    train_info.append(train_epoch)\n",
        "    test_info.append(test_epoch)\n",
        "    if epoch % 10 == 9:\n",
        "        print(\"EPOCH: {0}, Train loss: {1}, Train acc: {2}, Test loss: {3}, Test acc: {4}, Test F1: {5}\".format(\n",
        "            epoch, train_epoch[0], train_epoch[1], test_epoch[0], test_epoch[1], test_epoch[2]))\n",
        "\n",
        "print(\"Done!\")"
      ],
      "execution_count": 34,
      "outputs": [
        {
          "output_type": "stream",
          "text": [
            "EPOCH: 9, Train loss: 0.35960318479273057, Train acc: 0.9006381039197813, Test loss: 0.3545867562294006, Test acc: 0.88, Test F1: 0.8619246861924685\n",
            "EPOCH: 19, Train loss: 0.07686370838847426, Train acc: 0.9717411121239745, Test loss: 0.08673067539930343, Test acc: 0.9781818181818182, Test F1: 0.9765625\n",
            "EPOCH: 29, Train loss: 0.040952714160084724, Train acc: 0.9808568824065633, Test loss: 0.04911234453320503, Test acc: 0.9781818181818182, Test F1: 0.9765625\n",
            "Done!\n"
          ],
          "name": "stdout"
        }
      ]
    },
    {
      "cell_type": "code",
      "metadata": {
        "colab": {
          "base_uri": "https://localhost:8080/"
        },
        "id": "Opfda4LzSL2q",
        "outputId": "52ab2587-8df1-4440-fc4b-0ed85b59d0f6"
      },
      "source": [
        "print(model_monk_params.ada_act.K)"
      ],
      "execution_count": 35,
      "outputs": [
        {
          "output_type": "stream",
          "text": [
            "Parameter containing:\n",
            "tensor([0.4042, 0.9843], requires_grad=True)\n"
          ],
          "name": "stdout"
        }
      ]
    },
    {
      "cell_type": "code",
      "metadata": {
        "colab": {
          "base_uri": "https://localhost:8080/",
          "height": 393
        },
        "id": "maTiopiNSMK3",
        "outputId": "bc7d2ffa-69f2-4009-e05e-81c3ce4cb127"
      },
      "source": [
        "fig, (ax1, ax2) = plt.subplots(2, figsize=(12, 6), sharex=True)\n",
        "\n",
        "ax1.plot(list(zip(*train_info))[0])\n",
        "ax1.set_ylabel(\"Train loss\")\n",
        "ax2.plot(list(zip(*test_info))[1])\n",
        "ax2.set_ylabel(\"test acc\")"
      ],
      "execution_count": 36,
      "outputs": [
        {
          "output_type": "execute_result",
          "data": {
            "text/plain": [
              "Text(0, 0.5, 'test acc')"
            ]
          },
          "metadata": {
            "tags": []
          },
          "execution_count": 36
        },
        {
          "output_type": "display_data",
          "data": {
            "image/png": "[encoded data removed]",
            "text/plain": [
              "<Figure size 864x432 with 2 Axes>"
            ]
          },
          "metadata": {
            "tags": []
          }
        }
      ]
    },
    {
      "cell_type": "markdown",
      "metadata": {
        "id": "E99dFOb_SXbW"
      },
      "source": [
        "## Experiment 3 - Ada_Act_Rand"
      ]
    },
    {
      "cell_type": "code",
      "metadata": {
        "colab": {
          "base_uri": "https://localhost:8080/"
        },
        "id": "hHRz1gy1Sjvw",
        "outputId": "c2b2c0ca-3cef-403d-b6a7-be1898ecb3db"
      },
      "source": [
        "model_monk_rand = NN_Model_Monk(training_data.data.shape[1]).to(device)\n",
        "loss_fn = nn.BCELoss()\n",
        "optimizer = torch.optim.Adam(model_monk_rand.parameters(), lr=0.001, weight_decay=0.0001)\n",
        "\n",
        "EPOCHS = 30\n",
        "\n",
        "train_info = []\n",
        "test_info = []\n",
        "for epoch in range(EPOCHS):\n",
        "    train_epoch = train(train_dataloader, model_monk_rand, loss_fn, optimizer)\n",
        "    test_epoch = test(test_dataloader, model_monk_rand)\n",
        "    \n",
        "    train_info.append(train_epoch)\n",
        "    test_info.append(test_epoch)\n",
        "    if epoch % 10 == 9:\n",
        "        print(\"EPOCH: {0}, Train loss: {1}, Train acc: {2}, Test loss: {3}, Test acc: {4}, Test F1: {5}\".format(\n",
        "            epoch, train_epoch[0], train_epoch[1], test_epoch[0], test_epoch[1], test_epoch[2]))\n",
        "\n",
        "print(\"Done!\")"
      ],
      "execution_count": 37,
      "outputs": [
        {
          "output_type": "stream",
          "text": [
            "EPOCH: 9, Train loss: 0.6887297100490994, Train acc: 0.5597082953509571, Test loss: 0.6901520490646362, Test acc: 0.5381818181818182, Test F1: 0.0\n",
            "EPOCH: 19, Train loss: 0.6258773903052012, Train acc: 0.7848678213309025, Test loss: 0.6177546262741089, Test acc: 0.7636363636363637, Test F1: 0.7410358565737052\n",
            "EPOCH: 29, Train loss: 0.228791453772121, Train acc: 0.8979033728350045, Test loss: 0.25047701597213745, Test acc: 0.8763636363636363, Test F1: 0.8617886178861789\n",
            "Done!\n"
          ],
          "name": "stdout"
        }
      ]
    },
    {
      "cell_type": "code",
      "metadata": {
        "id": "oG-co5foK29d",
        "colab": {
          "base_uri": "https://localhost:8080/"
        },
        "outputId": "0b1293d9-3000-40a7-fee9-b0bacf28063b"
      },
      "source": [
        "print(model_monk_rand.ada_act.values)"
      ],
      "execution_count": 38,
      "outputs": [
        {
          "output_type": "stream",
          "text": [
            "tensor([0.6514, 0.0148])\n"
          ],
          "name": "stdout"
        }
      ]
    },
    {
      "cell_type": "code",
      "metadata": {
        "colab": {
          "base_uri": "https://localhost:8080/"
        },
        "id": "UOY0F6sCSufk",
        "outputId": "c381c669-6709-47b1-da3d-6460bc3a7f6e"
      },
      "source": [
        "print(model_monk_rand.ada_act.K)"
      ],
      "execution_count": 39,
      "outputs": [
        {
          "output_type": "stream",
          "text": [
            "Parameter containing:\n",
            "tensor([ 0.3692, -0.5658], requires_grad=True)\n"
          ],
          "name": "stdout"
        }
      ]
    },
    {
      "cell_type": "code",
      "metadata": {
        "colab": {
          "base_uri": "https://localhost:8080/",
          "height": 393
        },
        "id": "dQ4xXqK5Su-o",
        "outputId": "9690933d-261d-4d9b-9d8b-bd567376d194"
      },
      "source": [
        "fig, (ax1, ax2) = plt.subplots(2, figsize=(12, 6), sharex=True)\n",
        "\n",
        "ax1.plot(list(zip(*train_info))[0])\n",
        "ax1.set_ylabel(\"Train loss\")\n",
        "ax2.plot(list(zip(*test_info))[1])\n",
        "ax2.set_ylabel(\"test acc\")"
      ],
      "execution_count": 40,
      "outputs": [
        {
          "output_type": "execute_result",
          "data": {
            "text/plain": [
              "Text(0, 0.5, 'test acc')"
            ]
          },
          "metadata": {
            "tags": []
          },
          "execution_count": 40
        },
        {
          "output_type": "display_data",
          "data": {
            "image/png": "[encoded data removed]",
            "text/plain": [
              "<Figure size 864x432 with 2 Axes>"
            ]
          },
          "metadata": {
            "tags": []
          }
        }
      ]
    },
    {
      "cell_type": "code",
      "metadata": {
        "id": "5C3bT0wbO2Yz"
      },
      "source": [
        ""
      ],
      "execution_count": null,
      "outputs": []
    }
  ]
}