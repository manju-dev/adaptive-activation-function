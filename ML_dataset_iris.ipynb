{
  "nbformat": 4,
  "nbformat_minor": 0,
  "metadata": {
    "colab": {
      "name": "ML-dataset-iris.ipynb",
      "provenance": [],
      "collapsed_sections": [
        "iQte9lq3kwPR"
      ]
    },
    "kernelspec": {
      "name": "python3",
      "display_name": "Python 3"
    },
    "language_info": {
      "name": "python"
    }
  },
  "cells": [
    {
      "cell_type": "markdown",
      "metadata": {
        "id": "BP6WPI8u1ep6"
      },
      "source": [
        "# Experiment - Iris\n",
        "\n",
        "**References**\n",
        "* https://archive.ics.uci.edu/ml/datasets/iris\n",
        "\n",
        "* https://pytorch.org/tutorials/beginner/basics/quickstart_tutorial.html"
      ]
    },
    {
      "cell_type": "markdown",
      "metadata": {
        "id": "IXp7ktjOk73U"
      },
      "source": [
        "## Setup"
      ]
    },
    {
      "cell_type": "code",
      "metadata": {
        "colab": {
          "base_uri": "https://localhost:8080/"
        },
        "id": "ZALPAs7A1Yjq",
        "outputId": "7e6966fb-3fe3-401e-e418-b74273261806"
      },
      "source": [
        "# package versions\n",
        "!pip list | grep \"numpy\\|pandas\\|torch\\|sklearn\""
      ],
      "execution_count": 32,
      "outputs": [
        {
          "output_type": "stream",
          "text": [
            "numpy                         1.19.5        \n",
            "pandas                        1.1.5         \n",
            "pandas-datareader             0.9.0         \n",
            "pandas-gbq                    0.13.3        \n",
            "pandas-profiling              1.4.1         \n",
            "sklearn                       0.0           \n",
            "sklearn-pandas                1.8.0         \n",
            "torch                         1.8.1+cu101   \n",
            "torchsummary                  1.5.1         \n",
            "torchtext                     0.9.1         \n",
            "torchvision                   0.9.1+cu101   \n"
          ],
          "name": "stdout"
        }
      ]
    },
    {
      "cell_type": "code",
      "metadata": {
        "id": "gTDPMj7Z1n1O"
      },
      "source": [
        "import numpy as np\n",
        "import matplotlib.pyplot as plt\n",
        "\n",
        "plt.style.use('ggplot')\n",
        "SEED = 42"
      ],
      "execution_count": 33,
      "outputs": []
    },
    {
      "cell_type": "code",
      "metadata": {
        "id": "Fqcslv2hLKae",
        "colab": {
          "base_uri": "https://localhost:8080/"
        },
        "outputId": "de093281-7fe9-464e-f6ed-61b28d95f068"
      },
      "source": [
        "import torch\n",
        "from torch import nn\n",
        "import torch.nn.functional as F\n",
        "from torch.utils.data import Dataset\n",
        "from torch.utils.data import DataLoader\n",
        "\n",
        "device = 'cuda' if torch.cuda.is_available() else 'cpu'\n",
        "print('Using {} device'.format(device))"
      ],
      "execution_count": 34,
      "outputs": [
        {
          "output_type": "stream",
          "text": [
            "Using cpu device\n"
          ],
          "name": "stdout"
        }
      ]
    },
    {
      "cell_type": "code",
      "metadata": {
        "id": "cYYVMJ111u_k"
      },
      "source": [
        "from sklearn.datasets import load_iris\n",
        "from sklearn.model_selection import train_test_split\n",
        "from sklearn.preprocessing import StandardScaler\n",
        "import sklearn.metrics as metrics\n",
        "\n",
        "iris = load_iris()\n",
        "\n",
        "scaler = StandardScaler()\n",
        "\n",
        "# Split the data set into training and testing\n",
        "X_train, X_test, y_train, y_test = train_test_split(\n",
        "    scaler.fit_transform(iris['data']), iris['target'], test_size=0.2, random_state=SEED)"
      ],
      "execution_count": 35,
      "outputs": []
    },
    {
      "cell_type": "markdown",
      "metadata": {
        "id": "6I4dEQEClAZK"
      },
      "source": [
        "## Data"
      ]
    },
    {
      "cell_type": "code",
      "metadata": {
        "id": "BAf-NN5q1xjm"
      },
      "source": [
        "class IrisDataset(Dataset):\n",
        "    def __init__(self, data, labels):\n",
        "        self.data = torch.from_numpy(data).float()\n",
        "        self.labels = torch.from_numpy(labels).long()\n",
        "\n",
        "    def __len__(self):\n",
        "        return len(self.labels)\n",
        "\n",
        "    def __getitem__(self, idx):\n",
        "        item = self.data[idx]\n",
        "        label = self.labels[idx]\n",
        "        return item, label"
      ],
      "execution_count": 36,
      "outputs": []
    },
    {
      "cell_type": "code",
      "metadata": {
        "id": "vsmcrgrs1zkD"
      },
      "source": [
        "training_data = IrisDataset(X_train, y_train)\n",
        "test_data = IrisDataset(X_test, y_test)"
      ],
      "execution_count": 37,
      "outputs": []
    },
    {
      "cell_type": "code",
      "metadata": {
        "colab": {
          "base_uri": "https://localhost:8080/"
        },
        "id": "b7HjSc5I11la",
        "outputId": "b672da36-d3e9-4762-908d-018da5dd246f"
      },
      "source": [
        "batch_size = 64\n",
        "\n",
        "# Create data loaders.\n",
        "train_dataloader = DataLoader(training_data, batch_size=batch_size)\n",
        "test_dataloader = DataLoader(test_data, batch_size=batch_size)\n",
        "\n",
        "X, y = next(iter(train_dataloader))\n",
        "X.shape, y.shape"
      ],
      "execution_count": 38,
      "outputs": [
        {
          "output_type": "execute_result",
          "data": {
            "text/plain": [
              "(torch.Size([64, 4]), torch.Size([64]))"
            ]
          },
          "metadata": {
            "tags": []
          },
          "execution_count": 38
        }
      ]
    },
    {
      "cell_type": "markdown",
      "metadata": {
        "id": "GqlUZb39k2od"
      },
      "source": [
        "## Model"
      ]
    },
    {
      "cell_type": "code",
      "metadata": {
        "id": "mJKdGXPeMLYc"
      },
      "source": [
        "class NN_Model(nn.Module):\n",
        "    def __init__(self, input_dim):\n",
        "        super(NN_Model, self).__init__()\n",
        "        self.layer1 = nn.Linear(input_dim, 100)\n",
        "        self.layer2 = nn.Linear(100, 50)\n",
        "        self.layer3 = nn.Linear(50, 3)\n",
        "\n",
        "    def forward(self, x):\n",
        "        x = F.relu(self.layer1(x))\n",
        "        x = F.relu(self.layer2(x))\n",
        "        x = F.softmax(self.layer3(x), dim=1)\n",
        "        return x"
      ],
      "execution_count": 39,
      "outputs": []
    },
    {
      "cell_type": "code",
      "metadata": {
        "id": "dFjssdzPda9j"
      },
      "source": [
        "class Ada_Act_Params(nn.Module):\n",
        "    def __init__(self, k0, k1):\n",
        "        super(Ada_Act_Params, self).__init__()\n",
        "        self.K = torch.nn.Parameter(torch.tensor([k0, k1]))\n",
        "\n",
        "    def forward(self, x):\n",
        "        return self.K[0] + (self.K[1] * x)\n",
        "    \n",
        "class Ada_Act_Rand(nn.Module):\n",
        "    def __init__(self):\n",
        "        super(Ada_Act_Rand, self).__init__()\n",
        "        self.values = torch.rand(2)\n",
        "        self.K = torch.nn.Parameter(torch.tensor(self.values.tolist()))\n",
        "\n",
        "    def forward(self, x):\n",
        "        return self.K[0] + (self.K[1] * x)"
      ],
      "execution_count": 57,
      "outputs": []
    },
    {
      "cell_type": "code",
      "metadata": {
        "id": "x9LRRhOr13oW"
      },
      "source": [
        "class NN_Model_Monk(nn.Module):\n",
        "    def __init__(self, input_dim, k0=None, k1=None):\n",
        "        super(NN_Model_Monk, self).__init__()\n",
        "        self.layer1 = nn.Linear(input_dim, 100)\n",
        "        self.layer2 = nn.Linear(100, 50)\n",
        "        self.layer3 = nn.Linear(50, 3)\n",
        "\n",
        "        if k0 and k1:\n",
        "            self.ada_act = Ada_Act_Params(k0, k1)\n",
        "        else:\n",
        "            self.ada_act = Ada_Act_Rand()\n",
        "\n",
        "    def forward(self, x):\n",
        "        x = self.ada_act(self.layer1(x))\n",
        "        x = self.ada_act(self.layer2(x))\n",
        "        x = F.softmax(self.layer3(x), dim=1)\n",
        "        return x"
      ],
      "execution_count": 41,
      "outputs": []
    },
    {
      "cell_type": "code",
      "metadata": {
        "colab": {
          "base_uri": "https://localhost:8080/"
        },
        "id": "cPbhw6fSerBW",
        "outputId": "f3c49d9c-41d1-4c3c-a352-f97d0d51c1af"
      },
      "source": [
        "print(NN_Model_Monk(4))"
      ],
      "execution_count": 42,
      "outputs": [
        {
          "output_type": "stream",
          "text": [
            "NN_Model_Monk(\n",
            "  (layer1): Linear(in_features=4, out_features=100, bias=True)\n",
            "  (layer2): Linear(in_features=100, out_features=50, bias=True)\n",
            "  (layer3): Linear(in_features=50, out_features=3, bias=True)\n",
            "  (ada_act): Ada_Act_Rand()\n",
            ")\n"
          ],
          "name": "stdout"
        }
      ]
    },
    {
      "cell_type": "code",
      "metadata": {
        "colab": {
          "base_uri": "https://localhost:8080/"
        },
        "id": "SwAdbFZhepB3",
        "outputId": "e84619fa-3792-4841-c918-24dbc4f4a84b"
      },
      "source": [
        "print(NN_Model_Monk(4, 0.5, 0.5))"
      ],
      "execution_count": 43,
      "outputs": [
        {
          "output_type": "stream",
          "text": [
            "NN_Model_Monk(\n",
            "  (layer1): Linear(in_features=4, out_features=100, bias=True)\n",
            "  (layer2): Linear(in_features=100, out_features=50, bias=True)\n",
            "  (layer3): Linear(in_features=50, out_features=3, bias=True)\n",
            "  (ada_act): Ada_Act_Params()\n",
            ")\n"
          ],
          "name": "stdout"
        }
      ]
    },
    {
      "cell_type": "code",
      "metadata": {
        "id": "oLgacZMO2Gpr"
      },
      "source": [
        "def train(dataloader, model, loss_fn, optimizer):\n",
        "    train_loss = []\n",
        "    pred_all = []\n",
        "    for batch, (X, y) in enumerate(dataloader):\n",
        "        X, y = X.to(device), y.to(device)\n",
        "\n",
        "        # Compute prediction error\n",
        "        pred = model(X)\n",
        "        loss = loss_fn(pred, y)\n",
        "        \n",
        "        train_loss.append(loss.item())\n",
        "        pred_all += pred.argmax(1).tolist()\n",
        "\n",
        "        # Backpropagation\n",
        "        optimizer.zero_grad()\n",
        "        loss.backward()\n",
        "        optimizer.step()\n",
        "    \n",
        "    train_acc = metrics.accuracy_score(dataloader.dataset.labels, pred_all)\n",
        "    return (sum(train_loss)/len(train_loss), train_acc)"
      ],
      "execution_count": 44,
      "outputs": []
    },
    {
      "cell_type": "code",
      "metadata": {
        "id": "GdseYRkt2xcn"
      },
      "source": [
        "def test(dataloader, model):\n",
        "    model.eval()\n",
        "    test_loss = 0\n",
        "    pred_all = []\n",
        "    with torch.no_grad():\n",
        "        for X, y in dataloader:\n",
        "            X, y = X.to(device), y.to(device)\n",
        "            \n",
        "            pred = model(X)\n",
        "            \n",
        "            test_loss += loss_fn(pred, y).item()\n",
        "            # test_acc += (pred.argmax(1) == y).type(torch.float).sum().item()\n",
        "\n",
        "            pred_all += pred.argmax(1).tolist()\n",
        "    \n",
        "    test_loss /= len(dataloader)\n",
        "    test_acc = metrics.accuracy_score(dataloader.dataset.labels, pred_all)\n",
        "    test_f1 = metrics.f1_score(dataloader.dataset.labels, pred_all, average=None)\n",
        "    \n",
        "    return (test_loss, test_acc, test_f1)"
      ],
      "execution_count": 45,
      "outputs": []
    },
    {
      "cell_type": "markdown",
      "metadata": {
        "id": "4M8Etlg5L4h-"
      },
      "source": [
        "## Experiment : ReLU"
      ]
    },
    {
      "cell_type": "code",
      "metadata": {
        "colab": {
          "base_uri": "https://localhost:8080/"
        },
        "id": "0A2nJ9TFL-xb",
        "outputId": "82c87a8a-fdeb-4131-a6d4-c991ab1582ee"
      },
      "source": [
        "model= NN_Model(training_data.data.shape[1]).to(device)\n",
        "loss_fn = nn.CrossEntropyLoss()\n",
        "optimizer = torch.optim.Adam(model.parameters(), lr=1e-3)\n",
        "\n",
        "EPOCHS = 30\n",
        "\n",
        "train_info = []\n",
        "test_info = []\n",
        "for epoch in range(EPOCHS):\n",
        "    train_epoch = train(train_dataloader, model, loss_fn, optimizer)\n",
        "    test_epoch = test(test_dataloader, model)\n",
        "    \n",
        "    train_info.append(train_epoch)\n",
        "    test_info.append(test_epoch)\n",
        "    if epoch % 10 == 9:\n",
        "        print(\"EPOCH: {0}, Train loss: {1}, Train acc: {2}, Test loss: {3}, Test acc: {4}, Test F1: {5}\".format(\n",
        "            epoch, train_epoch[0], train_epoch[1], test_epoch[0], test_epoch[1], test_epoch[2]))\n",
        "\n",
        "print(\"Done!\")"
      ],
      "execution_count": 46,
      "outputs": [
        {
          "output_type": "stream",
          "text": [
            "EPOCH: 9, Train loss: 0.9055542647838593, Train acc: 0.8583333333333333, Test loss: 0.8779407143592834, Test acc: 0.9333333333333333, Test F1: [1.         0.875      0.91666667]\n",
            "EPOCH: 19, Train loss: 0.7633441984653473, Train acc: 0.8666666666666667, Test loss: 0.725165069103241, Test acc: 0.9333333333333333, Test F1: [1.         0.875      0.91666667]\n",
            "EPOCH: 29, Train loss: 0.6920821368694305, Train acc: 0.925, Test loss: 0.6548207998275757, Test acc: 0.9666666666666667, Test F1: [1.         0.94117647 0.95652174]\n",
            "Done!\n"
          ],
          "name": "stdout"
        }
      ]
    },
    {
      "cell_type": "code",
      "metadata": {
        "colab": {
          "base_uri": "https://localhost:8080/",
          "height": 393
        },
        "id": "yc0BdbJMMzSF",
        "outputId": "f07889ae-4670-4ac7-e8dd-581e48317dae"
      },
      "source": [
        "fig, (ax1, ax2) = plt.subplots(2, figsize=(12, 6), sharex=True)\n",
        "\n",
        "ax1.plot(list(zip(*train_info))[0])\n",
        "ax1.set_ylabel(\"Train loss\")\n",
        "ax2.plot(list(zip(*test_info))[1])\n",
        "ax2.set_ylabel(\"test acc\")"
      ],
      "execution_count": null,
      "outputs": [
        {
          "output_type": "execute_result",
          "data": {
            "text/plain": [
              "Text(0, 0.5, 'test acc')"
            ]
          },
          "metadata": {
            "tags": []
          },
          "execution_count": 15
        },
        {
          "output_type": "display_data",
          "data": {
            "image/png": "[encoded data removed]",
            "text/plain": [
              "<Figure size 864x432 with 2 Axes>"
            ]
          },
          "metadata": {
            "tags": []
          }
        }
      ]
    },
    {
      "cell_type": "markdown",
      "metadata": {
        "id": "jLpz6fKukrVL"
      },
      "source": [
        "## Experiment 2: Ada_Act_Params"
      ]
    },
    {
      "cell_type": "code",
      "metadata": {
        "colab": {
          "base_uri": "https://localhost:8080/"
        },
        "id": "FN6ZYj_KfoLa",
        "outputId": "5edb5fda-79ad-480d-ccd4-1e89ea3e28fb"
      },
      "source": [
        "# set ada_act params\n",
        "k0 = 0.5\n",
        "k1 = 0.5\n",
        "\n",
        "model_monk_params = NN_Model_Monk(training_data.data.shape[1], k0, k1).to(device)\n",
        "loss_fn = nn.CrossEntropyLoss()\n",
        "optimizer = torch.optim.Adam(model_monk_params.parameters(), lr=1e-3)\n",
        "\n",
        "EPOCHS = 30\n",
        "\n",
        "train_info = []\n",
        "test_info = []\n",
        "for epoch in range(EPOCHS):\n",
        "    train_epoch = train(train_dataloader, model_monk_params, loss_fn, optimizer)\n",
        "    test_epoch = test(test_dataloader, model_monk_params)\n",
        "    \n",
        "    train_info.append(train_epoch)\n",
        "    test_info.append(test_epoch)\n",
        "    if epoch % 10 == 9:\n",
        "        print(\"EPOCH: {0}, Train loss: {1}, Train acc: {2}, Test loss: {3}, Test acc: {4}, Test F1: {5}\".format(\n",
        "            epoch, train_epoch[0], train_epoch[1], test_epoch[0], test_epoch[1], test_epoch[2]))\n",
        "\n",
        "print(\"Done!\")"
      ],
      "execution_count": 47,
      "outputs": [
        {
          "output_type": "stream",
          "text": [
            "EPOCH: 9, Train loss: 0.9388868510723114, Train acc: 0.6583333333333333, Test loss: 0.9030010104179382, Test acc: 0.7, Test F1: [0.86956522 0.         0.78571429]\n",
            "EPOCH: 19, Train loss: 0.7944867014884949, Train acc: 0.8333333333333334, Test loss: 0.7584016919136047, Test acc: 0.9, Test F1: [1.   0.8  0.88]\n",
            "EPOCH: 29, Train loss: 0.7163310050964355, Train acc: 0.8666666666666667, Test loss: 0.6742479801177979, Test acc: 0.9333333333333333, Test F1: [1.         0.875      0.91666667]\n",
            "Done!\n"
          ],
          "name": "stdout"
        }
      ]
    },
    {
      "cell_type": "code",
      "metadata": {
        "colab": {
          "base_uri": "https://localhost:8080/"
        },
        "id": "8x9P2GtK3HI1",
        "outputId": "f63a905c-1a8e-4903-c99c-c109542b24b4"
      },
      "source": [
        "print(model_monk_params.ada_act.K)"
      ],
      "execution_count": 48,
      "outputs": [
        {
          "output_type": "stream",
          "text": [
            "Parameter containing:\n",
            "tensor([0.4969, 0.5643], requires_grad=True)\n"
          ],
          "name": "stdout"
        }
      ]
    },
    {
      "cell_type": "code",
      "metadata": {
        "colab": {
          "base_uri": "https://localhost:8080/",
          "height": 396
        },
        "id": "6NiMjLqUke2A",
        "outputId": "0f718374-5c48-4430-e56b-5fb2c89e2ab4"
      },
      "source": [
        "fig, (ax1, ax2) = plt.subplots(2, figsize=(12, 6), sharex=True)\n",
        "\n",
        "ax1.plot(list(zip(*train_info))[0])\n",
        "ax1.set_ylabel(\"Train loss\")\n",
        "ax2.plot(list(zip(*test_info))[1])\n",
        "ax2.set_ylabel(\"test acc\")"
      ],
      "execution_count": 49,
      "outputs": [
        {
          "output_type": "execute_result",
          "data": {
            "text/plain": [
              "Text(0, 0.5, 'test acc')"
            ]
          },
          "metadata": {
            "tags": []
          },
          "execution_count": 49
        },
        {
          "output_type": "display_data",
          "data": {
            "image/png": "[encoded data removed]",
            "text/plain": [
              "<Figure size 864x432 with 2 Axes>"
            ]
          },
          "metadata": {
            "tags": []
          }
        }
      ]
    },
    {
      "cell_type": "markdown",
      "metadata": {
        "id": "iQte9lq3kwPR"
      },
      "source": [
        "## Experiment 3: Ada_Act_Rand"
      ]
    },
    {
      "cell_type": "code",
      "metadata": {
        "colab": {
          "base_uri": "https://localhost:8080/"
        },
        "id": "4f3mF_Or3DDC",
        "outputId": "d7d6d1df-4e45-4edb-9a3e-8ab5c57d7712"
      },
      "source": [
        "model_monk_rand = NN_Model_Monk(training_data.data.shape[1]).to(device)\n",
        "loss_fn = nn.CrossEntropyLoss()\n",
        "optimizer = torch.optim.Adam(model_monk_rand.parameters(), lr=1e-3)\n",
        "\n",
        "EPOCHS = 30\n",
        "\n",
        "train_info = []\n",
        "test_info = []\n",
        "for epoch in range(EPOCHS):\n",
        "    train_epoch = train(train_dataloader, model_monk_rand, loss_fn, optimizer)\n",
        "    test_epoch = test(test_dataloader, model_monk_rand)\n",
        "    \n",
        "    train_info.append(train_epoch)\n",
        "    test_info.append(test_epoch)\n",
        "    if epoch % 10 == 9:\n",
        "        print(\"EPOCH: {0}, Train loss: {1}, Train acc: {2}, Test loss: {3}, Test acc: {4}, Test F1: {5}\".format(\n",
        "            epoch, train_epoch[0], train_epoch[1], test_epoch[0], test_epoch[1], test_epoch[2]))\n",
        "\n",
        "print(\"Done!\")"
      ],
      "execution_count": 62,
      "outputs": [
        {
          "output_type": "stream",
          "text": [
            "EPOCH: 9, Train loss: 0.8950760066509247, Train acc: 0.775, Test loss: 0.8688853979110718, Test acc: 0.8, Test F1: [1.         0.5        0.78571429]\n",
            "EPOCH: 19, Train loss: 0.7694326639175415, Train acc: 0.8166666666666667, Test loss: 0.736314058303833, Test acc: 0.9333333333333333, Test F1: [1.         0.875      0.91666667]\n",
            "EPOCH: 29, Train loss: 0.7096844911575317, Train acc: 0.8583333333333333, Test loss: 0.6644108891487122, Test acc: 0.9666666666666667, Test F1: [1.         0.94117647 0.95652174]\n",
            "Done!\n"
          ],
          "name": "stdout"
        }
      ]
    },
    {
      "cell_type": "code",
      "metadata": {
        "id": "OMw8K47K7IKZ",
        "colab": {
          "base_uri": "https://localhost:8080/"
        },
        "outputId": "c7851b41-2318-44c2-d44f-a62b7268122f"
      },
      "source": [
        "print(model_monk_rand.ada_act.values)"
      ],
      "execution_count": 60,
      "outputs": [
        {
          "output_type": "stream",
          "text": [
            "tensor([0.4548, 0.8181])\n"
          ],
          "name": "stdout"
        }
      ]
    },
    {
      "cell_type": "code",
      "metadata": {
        "colab": {
          "base_uri": "https://localhost:8080/"
        },
        "id": "FZ1zXWToh8VJ",
        "outputId": "ac10c0a5-05ac-4e92-d729-8a2014a58411"
      },
      "source": [
        "print(model_monk_rand.ada_act.K)"
      ],
      "execution_count": 61,
      "outputs": [
        {
          "output_type": "stream",
          "text": [
            "Parameter containing:\n",
            "tensor([0.4587, 0.8681], requires_grad=True)\n"
          ],
          "name": "stdout"
        }
      ]
    },
    {
      "cell_type": "code",
      "metadata": {
        "colab": {
          "base_uri": "https://localhost:8080/",
          "height": 410
        },
        "id": "8cuhruhK5WcU",
        "outputId": "f1968be2-c2ef-4e7e-dad8-3e0743f2466e"
      },
      "source": [
        "fig, (ax1, ax2) = plt.subplots(2, figsize=(12, 6), sharex=True)\n",
        "\n",
        "ax1.plot(list(zip(*train_info))[0])\n",
        "ax1.set_ylabel(\"Train loss\")\n",
        "ax2.plot(list(zip(*test_info))[1])\n",
        "ax2.set_ylabel(\"test acc\")\n",
        "ax2.set_xlabel(\"epochs\")"
      ],
      "execution_count": 53,
      "outputs": [
        {
          "output_type": "execute_result",
          "data": {
            "text/plain": [
              "Text(0.5, 0, 'epochs')"
            ]
          },
          "metadata": {
            "tags": []
          },
          "execution_count": 53
        },
        {
          "output_type": "display_data",
          "data": {
            "image/png": "[encoded data removed]",
            "text/plain": [
              "<Figure size 864x432 with 2 Axes>"
            ]
          },
          "metadata": {
            "tags": []
          }
        }
      ]
    },
    {
      "cell_type": "code",
      "metadata": {
        "id": "rHE52rOpoR0P"
      },
      "source": [
        ""
      ],
      "execution_count": null,
      "outputs": []
    }
  ]
}